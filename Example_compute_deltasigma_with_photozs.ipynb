{
 "cells": [
  {
   "cell_type": "markdown",
   "id": "e0fea9a1",
   "metadata": {},
   "source": [
    "# Basic usage of the cosmoDC2 extragalactic catalog and photoz add-on catalog - Weak gravitational lensing shear by dark matter halo"
   ]
  },
  {
   "cell_type": "markdown",
   "id": "981906df",
   "metadata": {},
   "source": [
    "### Compute the excess surface density arround clusters using photometrical redshift in cosmoDC2 extragalactic catalog"
   ]
  },
  {
   "cell_type": "markdown",
   "id": "ad2cda6c",
   "metadata": {},
   "source": [
    "#### This notebook can be run at NERSC or CC-IN2P3 where the DESC DC2 products are stored. You need to be a DESC member to be able to access those."
   ]
  },
  {
   "cell_type": "markdown",
   "id": "520a82d2",
   "metadata": {},
   "source": [
    "This notebook will show how to use the photometric redshift (photo-z) add-on columns of cosmoDC2 extragalactic catalog in order to estimate the average excess surface density around cluster. After going through this notebook, you should be able to:\n",
    "- 1. load a cosmoDC2 dark matter halo catalog,\n",
    "- 2. load and access the cosmoDC2 extragalctic catalog,\n",
    "- 3. load and access the cosmoDC2 photo-z add-on columns (a detailled version of this step was edited by Sam Shmidt and is available at https://github.com/LSSTDESC/DC2-analysis/blob/master/tutorials/extragalactic_gcr_photoz_catalogs.ipynb),\n",
    "- 4. Compute the excess surface density estimator using phorometric redshift catalogs."
   ]
  },
  {
   "cell_type": "code",
   "execution_count": 1,
   "id": "2c2e26f1",
   "metadata": {},
   "outputs": [],
   "source": [
    "import numpy as np\n",
    "import os\n",
    "import GCRCatalogs\n",
    "import matplotlib.pyplot as plt\n",
    "import scipy.integrate"
   ]
  },
  {
   "cell_type": "code",
   "execution_count": null,
   "id": "c6ea13c2",
   "metadata": {},
   "outputs": [],
   "source": [
    "import matplotlib.pyplot as plt\n",
    "import numpy as np\n",
    "from astropy.table import Table, join\n",
    "import GCRCatalogs\n",
    "os.environ['CLMM_MODELING_BACKEND'] = 'ccl' # here you may choose ccl, nc (NumCosmo) or ct (cluster_toolkit)\n",
    "import clmm \n",
    "import healpy"
   ]
  },
  {
   "cell_type": "markdown",
   "id": "0ce43dd8",
   "metadata": {},
   "source": [
    "# 1. Prepare a dark matter halo from cosmoDC2"
   ]
  },
  {
   "cell_type": "code",
   "execution_count": null,
   "id": "9cc989d3",
   "metadata": {},
   "outputs": [],
   "source": [
    "extragalactic_cat = GCRCatalogs.load_catalog('cosmoDC2_v1.1.4_small')"
   ]
  },
  {
   "cell_type": "markdown",
   "id": "6d17e4a9",
   "metadata": {},
   "source": [
    "In order to speed up the extraction of dark matter halo/galaxy quantities, we select a dark matter halo within a specified healpix pixel. "
   ]
  },
  {
   "cell_type": "code",
   "execution_count": null,
   "id": "6a416d0f",
   "metadata": {},
   "outputs": [],
   "source": [
    "healpix_pixels = extragalactic_cat.get_catalog_info()['healpix_pixels']"
   ]
  },
  {
   "cell_type": "code",
   "execution_count": null,
   "id": "9032f254",
   "metadata": {},
   "outputs": [],
   "source": [
    "healpix_selected = healpix_pixels[4]\n",
    "print('The selected healpix pixel is ' + str(healpix_selected))"
   ]
  },
  {
   "cell_type": "markdown",
   "id": "bd845bf1",
   "metadata": {},
   "source": [
    "We extract the dark matter halos located in this specified healpix pixel with some property cut (mass and redhift range). We select the most massive one in the sample."
   ]
  },
  {
   "cell_type": "code",
   "execution_count": null,
   "id": "9024d058",
   "metadata": {},
   "outputs": [],
   "source": [
    "# get list of massive halos in a given redshift and mass range\n",
    "mmin = 1.e14 # Msun\n",
    "zmin = 0.3\n",
    "zmax = 0.4\n",
    "massive_halos = extragalactic_cat.get_quantities(['halo_mass','hostHaloMass','redshift','ra', 'dec', 'halo_id'],\n",
    "                                                 filters=[f'halo_mass > {mmin}','is_central==True',\n",
    "                                                          f'redshift>{zmin}', f'redshift<{zmax}'], native_filters=['healpix_pixel == ' + str(healpix_selected)])\n",
    "N_cl = len(massive_halos['halo_mass'])\n",
    "print(f'There are {N_cl} clusters in this mass and redshift range')"
   ]
  },
  {
   "cell_type": "code",
   "execution_count": null,
   "id": "1520e4ed",
   "metadata": {},
   "outputs": [],
   "source": [
    "select = massive_halos['halo_mass'] == np.max(massive_halos['halo_mass'])\n",
    "ra_cl = massive_halos['ra'][select][0]\n",
    "dec_cl = massive_halos['dec'][select][0]\n",
    "z_cl = massive_halos['redshift'][select][0]\n",
    "mass_cl =massive_halos['halo_mass'][select][0]\n",
    "id_cl = massive_halos['halo_id'][select][0]"
   ]
  },
  {
   "cell_type": "code",
   "execution_count": null,
   "id": "793f1c18",
   "metadata": {},
   "outputs": [],
   "source": [
    "print (f'The most massive cluster is halo {id_cl} in ra = {ra_cl:.2f} deg, dec = {dec_cl:.2f} deg, z = {z_cl:.2f}, with mass = {mass_cl:.2e} Msun')"
   ]
  },
  {
   "cell_type": "markdown",
   "id": "015106fd",
   "metadata": {},
   "source": [
    "# 2. Extract background galaxy catalog with location and shape properties"
   ]
  },
  {
   "cell_type": "markdown",
   "id": "6d1fb400",
   "metadata": {},
   "source": [
    "The galaxy shapes are available in the cosmoDC2 extragalaxtic catalog, and photometric related inforamtions are available separetly in add-on columns. We first extract the background galaxy shapes for galaxies within a window of 0.6 degrees arround the cluster position. As the redshift cut to identify background galaxies is applied to mean photometric redshift of galaxies ($\\langle z_{\\rm gal} \\rangle_{\\rm photoz} > z_{\\rm l} + 0.1$), where $z_{\\rm l}$ is the redshift of the lens dark matter halo. we then extract the all galaxy information in this healpix pixel to apply futher cuts."
   ]
  },
  {
   "cell_type": "markdown",
   "id": "bc7ce62d",
   "metadata": {},
   "source": [
    "### Apply coordinates, redshift and magnitude cuts to select backgroud galaxies around the cluster"
   ]
  },
  {
   "cell_type": "markdown",
   "id": "edaed84f",
   "metadata": {},
   "source": [
    "- Box of 0.6 deg around the cluster center\n",
    "- Galaxies with mag_i < 25"
   ]
  },
  {
   "cell_type": "code",
   "execution_count": null,
   "id": "b1bc7e86",
   "metadata": {},
   "outputs": [],
   "source": [
    "ra_min, ra_max = ra_cl - 0.3, ra_cl + 0.3\n",
    "dec_min, dec_max = dec_cl - 0.3, dec_cl + 0.3\n",
    "mag_i_max = 25"
   ]
  },
  {
   "cell_type": "markdown",
   "id": "5c672443",
   "metadata": {},
   "source": [
    "We load the catalog in the contiguous healpix pixels arround the cluster position corresponding to a window O.6 deg (we use the `healpy` package to find the correspondance healpix-position)"
   ]
  },
  {
   "cell_type": "code",
   "execution_count": null,
   "id": "a612039a",
   "metadata": {},
   "outputs": [],
   "source": [
    "n_points = 300\n",
    "ra_random, dec_random = np.random.random(n_points)*(ra_max - ra_min) + ra_min, np.random.random(n_points)*(dec_max - dec_min) + dec_min\n",
    "contiguous_healpix_pixels = np.unique(healpy.ang2pix(32, ra_random, dec_random, nest=False, lonlat=True))\n",
    "print('The contiguous healpix pixels arround the cluster position are '+ str(contiguous_healpix_pixels))"
   ]
  },
  {
   "cell_type": "markdown",
   "id": "9b20a923",
   "metadata": {},
   "source": [
    "To compute the excess surface density arround the dark matter halo, we extract the weak lensing quantities for each background galaxies:\n",
    "- complex shear componenent `'shear_1'` & `'shear_2'`\n",
    "- convergence `'convergence'`\n",
    "- intrinsic ellipticity components `'ellipticity_1_true'` & `'ellipticity_2_true'`"
   ]
  },
  {
   "cell_type": "code",
   "execution_count": null,
   "id": "fee4ed19",
   "metadata": {},
   "outputs": [],
   "source": [
    "%%time\n",
    "coord_filters = ['ra >= {}'.format(ra_min),'ra < {}'.format(ra_max),'dec >= {}'.format(dec_min),'dec < {}'.format(dec_max)]\n",
    "z_filters = ['redshift >= 0']\n",
    "mag_filters = ['mag_i < {}'.format(mag_i_max)]\n",
    "gal_cat = extragalactic_cat.get_quantities(['galaxy_id', \n",
    "                                            'ra', 'dec',\n",
    "                                            'shear_1', 'shear_2', \n",
    "                                            'ellipticity_1_true', 'ellipticity_2_true',\n",
    "                                            'redshift', 'convergence', 'halo_id'],\n",
    "                                            filters=(coord_filters + z_filters + mag_filters), \n",
    "                                            native_filters=['healpix_pixel == ' + str(healpix_selected)])\n",
    "print(str(len(gal_cat['galaxy_id'])) +' saved galaxies')"
   ]
  },
  {
   "cell_type": "markdown",
   "id": "24b82c34",
   "metadata": {},
   "source": [
    "We compute the obseved galaxy ellipticities using shear, convergence and intrinsic ellipticities (we use the functionalities of the `CLMM` package):"
   ]
  },
  {
   "cell_type": "markdown",
   "id": "c52a62b5",
   "metadata": {},
   "source": [
    "$$\n",
    "\\epsilon^{\\rm obs} =\n",
    "        \\frac{\\epsilon^{\\rm int} + g}{1 + g^*\\epsilon^{\\rm int}}$$ where: $$g = \\frac{\\gamma}{1-\\kappa}$$"
   ]
  },
  {
   "cell_type": "code",
   "execution_count": null,
   "id": "4a2fac3d",
   "metadata": {},
   "outputs": [],
   "source": [
    "gal_cat['e1'] = clmm.utils.compute_lensed_ellipticity(gal_cat['ellipticity_1_true'], \n",
    "                                                      gal_cat['ellipticity_2_true'], \n",
    "                                                      gal_cat['shear_1'], gal_cat['shear_2'], \n",
    "                                                      gal_cat['convergence'])[0]\n",
    "\n",
    "gal_cat['e2'] = clmm.utils.compute_lensed_ellipticity(gal_cat['ellipticity_1_true'], \n",
    "                                                      gal_cat['ellipticity_2_true'], \n",
    "                                                      gal_cat['shear_1'], \n",
    "                                                      gal_cat['shear_2'], \n",
    "                                                      gal_cat['convergence'])[1]"
   ]
  },
  {
   "cell_type": "code",
   "execution_count": null,
   "id": "cfd3488b",
   "metadata": {},
   "outputs": [],
   "source": [
    "gal_cat['z'] = gal_cat['redshift']"
   ]
  },
  {
   "cell_type": "code",
   "execution_count": null,
   "id": "360a23bd",
   "metadata": {},
   "outputs": [],
   "source": [
    "gal_cat = Table(gal_cat)"
   ]
  },
  {
   "cell_type": "markdown",
   "id": "abe61e2f",
   "metadata": {},
   "source": [
    "The member galaxy catalog for the selected clusters :"
   ]
  },
  {
   "cell_type": "code",
   "execution_count": null,
   "id": "77f699de",
   "metadata": {},
   "outputs": [],
   "source": [
    "member_gal_catalog = gal_cat[gal_cat['halo_id'] == id_cl]"
   ]
  },
  {
   "cell_type": "markdown",
   "id": "8b4ca2f7",
   "metadata": {},
   "source": [
    "# 3. Extract photometrical related informations"
   ]
  },
  {
   "cell_type": "markdown",
   "id": "63577b55",
   "metadata": {},
   "source": [
    "The full details of the photo-z quantities in the add-on catalog `'cosmoDC2_v1.1.4_small_with_photozs_v1'` are given in the notebook https://github.com/LSSTDESC/DC2-analysis/blob/master/tutorials/extragalactic_gcr_photoz_catalogs.ipynb by Sam Schmidt. This catalog contains photometric redshifts that were computed with the BPZ template-based code (https://ui.adsabs.harvard.edu/abs/2000ApJ...536..571B/abstract). In this notebook we show the estimation of the excess surface density using BPZ redshift. FlexZBoost photometric redshift are also avaliable by taking the catalog `'cosmoDC2_v1.1.4_small_with_photozs_flexzboost_v1'`. For weak lensing purposes, we extract for each background galaxies in the above sample:\n",
    "- the probability density function `'photoz_pdf'`,\n",
    "- the mean photometric redshift `'photoz_mean'`.\n",
    "\n",
    "Let's note that the add-on catalog does not support geometrical cut (in ra, dec, redshift). We first extract the photo-z informations in the corresponding contiguous healpix pixels, we then match with the galaxy sample."
   ]
  },
  {
   "cell_type": "code",
   "execution_count": null,
   "id": "09eb2c5e",
   "metadata": {
    "tags": []
   },
   "outputs": [],
   "source": [
    "%%time\n",
    "cat = GCRCatalogs.load_catalog('cosmoDC2_v1.1.4_small_with_photozs_v1')\n",
    "z_bins = cat.photoz_pdf_bin_centers"
   ]
  },
  {
   "cell_type": "code",
   "execution_count": null,
   "id": "59bf69f6",
   "metadata": {},
   "outputs": [],
   "source": [
    "%%time\n",
    "photoz_cat = cat.get_quantities(['photoz_pdf','photoz_mean','redshift', 'galaxy_id'],\n",
    "                            native_filters=['healpix_pixel=='+str(contiguous_healpix_pixels[0])])"
   ]
  },
  {
   "cell_type": "markdown",
   "id": "d2136390",
   "metadata": {},
   "source": [
    "We use package to match with the galaxy sample."
   ]
  },
  {
   "cell_type": "code",
   "execution_count": null,
   "id": "2b93f95b",
   "metadata": {},
   "outputs": [],
   "source": [
    "z_min = z_cl + 0.1"
   ]
  },
  {
   "cell_type": "code",
   "execution_count": null,
   "id": "21502b4f",
   "metadata": {},
   "outputs": [],
   "source": [
    "tab_astropy = Table()\n",
    "tab_astropy['galaxy_id'] = photoz_cat['galaxy_id']\n",
    "tab_astropy['photoz_pdf'] =  photoz_cat['photoz_pdf']\n",
    "tab_astropy['photoz_mean'] =  photoz_cat['photoz_mean']"
   ]
  },
  {
   "cell_type": "code",
   "execution_count": null,
   "id": "2b340e14",
   "metadata": {},
   "outputs": [],
   "source": [
    "cat_complete = join(tab_astropy, gal_cat, keys = 'galaxy_id')"
   ]
  },
  {
   "cell_type": "code",
   "execution_count": null,
   "id": "9f9a2d28",
   "metadata": {},
   "outputs": [],
   "source": [
    "axis_select_background = [0 if z_bins[i] < z_min + 0.1 else 1 for i in range(len(z_bins))]"
   ]
  },
  {
   "cell_type": "code",
   "execution_count": null,
   "id": "c9cb092b",
   "metadata": {},
   "outputs": [],
   "source": [
    "m = np.zeros([len(cat_complete), len(z_bins)])\n",
    "for i in range(len(cat_complete)):\n",
    "    m[i,:] = np.array(cat_complete['photoz_pdf'][i])"
   ]
  },
  {
   "cell_type": "code",
   "execution_count": null,
   "id": "4a59d19e",
   "metadata": {},
   "outputs": [],
   "source": [
    "integral_pdf_behind = scipy.integrate.simps(m * axis_select_background, x = z_bins, axis = 1)\n",
    "norm_pdf = scipy.integrate.simps(m, x = z_bins, axis = 1)"
   ]
  },
  {
   "cell_type": "code",
   "execution_count": null,
   "id": "8de4b137",
   "metadata": {},
   "outputs": [],
   "source": [
    "cat_complete['background_probability'] = integral_pdf_behind/norm_pdf\n",
    "cat_complete['photoz_pdf_norm'] = norm_pdf"
   ]
  },
  {
   "cell_type": "code",
   "execution_count": null,
   "id": "482a22bd",
   "metadata": {},
   "outputs": [],
   "source": [
    "member_gal_photoz_catalog = cat_complete[np.isin(cat_complete['galaxy_id'],member_gal_catalog['galaxy_id'])]"
   ]
  },
  {
   "cell_type": "markdown",
   "id": "f4d69f86",
   "metadata": {},
   "source": [
    "### Selection of background galaxies:\n",
    "We discuss briefly the effect of redhsift selection of background galaxies, by considering two different cases:\n",
    "- `cat_photoz`: \n",
    "The background galaxies can be selected by considering that the mean photometric redshift veryfies $\\langle z \\rangle_{\\rm photoz} > z_{\\rm l} + 0.1$,\n",
    "- `cat_true`: \n",
    "The background galaxies are selected with $z_{\\rm cosmoDC2} > z_{\\rm l} + 0.1$.\n",
    "- `cat_probability`: \n",
    "The background galaxies are selected with $\\int_{z_{\\rm DM + 0.1}}^{+\\infty} dz p(z)  > 0.95$."
   ]
  },
  {
   "cell_type": "code",
   "execution_count": null,
   "id": "e5c7d03b",
   "metadata": {},
   "outputs": [],
   "source": [
    "cat_true = cat_complete[cat_complete['redshift'] > z_min]\n",
    "cat_photoz = cat_complete[cat_complete['photoz_mean'] > z_min]\n",
    "cat_probability = cat_complete[cat_complete['background_probability'] > 0.95]"
   ]
  },
  {
   "cell_type": "code",
   "execution_count": null,
   "id": "5062b6d9",
   "metadata": {},
   "outputs": [],
   "source": [
    "fig, ax = plt.subplots(1,2, figsize = (20,8))\n",
    "plt.rcParams['axes.linewidth'] = 2\n",
    "ax[0].tick_params(axis='both', which = 'both', labelsize= 15)\n",
    "ax[0].scatter(cat_photoz['photoz_mean'], cat_photoz['background_probability'], label = r'cut $: \\langle z \\rangle_{\\rm photoz}  > z_{\\rm DM} + 0.1$')\n",
    "ax[0].scatter(cat_probability['photoz_mean'], cat_probability['background_probability'], label =  r'cut $: P(z > z_{\\rm DM} + 0.1)  > 0.95$')\n",
    "ax[0].vlines(z_cl, 0, 1, color = 'magenta', linestyle = '-', label = 'cluster redshift', zorder = 1000)\n",
    "ax[0].legend(frameon = True, framealpha = 1, fontsize = 15, loc = 'lower right')\n",
    "ax[0].set_xlabel(r'$\\langle z \\rangle_{\\rm photoz}$', fontsize = 30)\n",
    "ax[0].set_ylabel(r'$P(z > z_{\\rm DM} + 0.1)$', fontsize = 30)\n",
    "\n",
    "ax[1].tick_params(axis='both', which = 'both', labelsize= 15)\n",
    "ax[1].scatter(cat_photoz['redshift'], cat_photoz['background_probability'], label = r'cut $: \\langle z \\rangle_{\\rm photoz}  > z_{\\rm DM} + 0.1$')\n",
    "ax[1].scatter(cat_probability['redshift'], cat_probability['background_probability'], label =  r'cut $: P(z > z_{\\rm DM} + 0.1)  > 0.95$')\n",
    "ax[1].vlines(z_cl, 0, 1, color = 'magenta', linestyle = '-', label = 'cluster redshift', zorder = 1000)\n",
    "ax[1].legend(frameon = True, framealpha = 1, fontsize = 15, loc = 'lower right')\n",
    "ax[1].set_xlabel(r'$z_{\\rm cosmoDC2}$', fontsize = 30)\n",
    "ax[1].set_ylabel(r'$P(z > z_{\\rm DM} + 0.1)$', fontsize = 30)"
   ]
  },
  {
   "cell_type": "markdown",
   "id": "85f69f20",
   "metadata": {},
   "source": [
    "We check the contamination level by counting the member galaxies after selection in each dataset:"
   ]
  },
  {
   "cell_type": "code",
   "execution_count": null,
   "id": "551f3c83",
   "metadata": {},
   "outputs": [],
   "source": [
    "print(' ')\n",
    "member_gal_cat_photoz = cat_photoz[np.isin(cat_photoz['galaxy_id'],member_gal_catalog['galaxy_id'])]\n",
    "print(f'there are {len(member_gal_cat_photoz)} member galaxies in the cat_photoz dataset')\n",
    "foreground_gal_photoz = len(cat_photoz['redshift'] < z_cl)\n",
    "print(f'there are {foreground_gal_photoz} foreground galaxies in the cat_photoz dataset')\n",
    "print(' ')\n",
    "member_gal_cat_probability = cat_probability[np.isin(cat_probability['galaxy_id'],member_gal_catalog['galaxy_id'])]\n",
    "print(f'there are {len(member_gal_cat_probability)} member galaxies in the cat_probability dataset')\n",
    "print(' ')\n",
    "member_gal_cat_true = cat_true[np.isin(cat_true['galaxy_id'],member_gal_catalog['galaxy_id'])]\n",
    "print(f'there are {len(member_gal_cat_true)} member galaxies in the cat_true dataset')\n",
    "print(' ')"
   ]
  },
  {
   "cell_type": "markdown",
   "id": "424c092e",
   "metadata": {},
   "source": [
    "From the figure above, and the count of contamination in each data set, we can see that the background galaxy selection based of mean photometric redshift induces a larger contamination from member galaxies in the background galaxy sample. "
   ]
  },
  {
   "cell_type": "markdown",
   "id": "a9da54af",
   "metadata": {},
   "source": [
    "In the figure below, we show the different dataset involved:\n",
    "- the true redshift histogram in the selected healpix (orange)\n",
    "- the true redshift histogram in the `cat_photoz` dataset (blue)\n",
    "- the true redshift histogram in the `cat_true` dataset (dashed red)\n",
    "- the individual photoz-pdf of each member galaxies (grey)"
   ]
  },
  {
   "cell_type": "code",
   "execution_count": null,
   "id": "32ceb9b2",
   "metadata": {},
   "outputs": [],
   "source": [
    "pdf_member_galaxy_average = 0\n",
    "for i, pdf in enumerate(member_gal_photoz_catalog['photoz_pdf']):\n",
    "    pdf_member_galaxy_average = pdf_member_galaxy_average + pdf/member_gal_photoz_catalog['photoz_pdf_norm'][i]"
   ]
  },
  {
   "cell_type": "code",
   "execution_count": null,
   "id": "50892eda",
   "metadata": {},
   "outputs": [],
   "source": [
    "plt.figure(figsize = (12,8))\n",
    "plt.rcParams['axes.linewidth'] = 2\n",
    "bins = np.linspace(0, 3, 56)\n",
    "plt.tick_params(axis='both', which = 'both', labelsize= 15)\n",
    "plt.hist(gal_cat['redshift'], bins = bins, linewidth = 1, label = r'healpix $z_{\\rm cosmoDC2}$ > 0',  color = 'orange', alpha = 0.5)\n",
    "plt.hist(cat_photoz['redshift'], bins = bins, histtype = 'step', linewidth = 2, label = r'cut $: \\langle z \\rangle_{\\rm photoz} > z_{\\rm DM} + 0.1$', color = 'b')\n",
    "plt.hist(cat_true['redshift'], bins = bins, linewidth = 4, histtype = 'step', label = r'cut $: z_{\\rm cosmoDC2}  > z_{\\rm DM} + 0.1$',color = 'r', linestyle = '--', zorder = 0)\n",
    "plt.hist(cat_probability['redshift'], bins = bins, linewidth = 2, histtype = 'step', label = r'cut $: P(z > z_{\\rm DM} + 0.1)  > 0.95$',color = 'g', linestyle = '--')\n",
    "plt.vlines(z_cl, 0, 4000, color = 'k', linestyle = '--', label = 'cluster redshift', zorder = 1000)\n",
    "\n",
    "plt.plot(z_bins, 500*pdf_member_galaxy_average/len(member_gal_photoz_catalog), '-k', label = 'average member galaxy photoz pdf')\n",
    "\n",
    "plt.ylim(0, 4000)\n",
    "plt.legend(frameon = False, fontsize = 20)\n",
    "plt.xlabel(r'$z_{\\rm cosmoDC2}$', fontsize = 30)\n",
    "plt.ylabel(r'Histogram', fontsize = 30)\n",
    "plt.title('Selection effect on background galaxies', fontsize = 20)\n",
    "plt.savefig('/pbs/throng/lsst/users/cpayerne/ThesisAtCCin2p3/Images/selection_effect.png', bbox_inches='tight', dpi=300)\n",
    "plt.show()"
   ]
  },
  {
   "cell_type": "markdown",
   "id": "15a35bb4",
   "metadata": {},
   "source": [
    "We can check the percentage of foreground galaxies in the `cat_photoz` dataset that have been identified as background galaxies"
   ]
  },
  {
   "cell_type": "code",
   "execution_count": null,
   "id": "3f399518",
   "metadata": {},
   "outputs": [],
   "source": [
    "per_cent_cat_photoz = abs(100*(len(cat_photoz[cat_photoz['redshift'] < z_cl]))/len(cat_photoz))\n",
    "per_cent_cat_probability = abs(100*(len(cat_probability[cat_probability['redshift'] < z_cl]))/len(cat_probability))"
   ]
  },
  {
   "cell_type": "code",
   "execution_count": null,
   "id": "4d68fc37",
   "metadata": {},
   "outputs": [],
   "source": [
    "print(F'The percentage of foreground gaalxies identified as background galaxies in cat_photoz dataset is {per_cent_cat_photoz:.2f} %')\n",
    "print(F'The percentage of foreground gaalxies identified as background galaxies in cat_probability dataset is {per_cent_cat_probability:.2f} %')"
   ]
  },
  {
   "cell_type": "markdown",
   "id": "06aebdbf",
   "metadata": {},
   "source": [
    "This selection effect has to be taken in account in the computation of the excess surface density, as the fraction of background galaxies have mean photometric redshift below the redshift threeshold for the weak lensing analysis si non-zero, and member galaxies are identified as background galaxies."
   ]
  },
  {
   "cell_type": "markdown",
   "id": "784da39f",
   "metadata": {},
   "source": [
    "# 4. Compute the excess surface density"
   ]
  },
  {
   "cell_type": "markdown",
   "id": "0c664d5e",
   "metadata": {},
   "source": [
    "### Estimator of the excess surface density\n",
    "\n",
    "- The maximum likelihood estimator of the excess surface density in the radial bin $[R, R + \\Delta R[$ is defined by $$\\widehat{\\Delta\\Sigma}_+(R) = \\frac{1}{\\sum\\limits_{s = 1} w_{s}}\n",
    "     \\sum\\limits_{s= 1}w_{s}\\langle\\Sigma_{{\\rm crit}}(z_s, z_l)^{-1}\\rangle^{-1}\\epsilon_+^{s}$$ where $\\epsilon_+^{s}$ is the tangential ellipticity of the background galaxy with index $s$ (source) relative to the dark matter halo position (lens).\n",
    "     \n",
    "- The critical surface mass density expresses as $\\Sigma_{{\\rm crit}}(z_s, z_l) = \\frac{c^2}{4 \\pi G} \\frac{D_A(z_s)}{D_A(z_l) D_A(z_s, z_l)}$, where $D_A(z_l), D_A(z_s)$ are respectively the angular diameter distance to the lens and to the source in physical units, and $D_A(z_s, z_l)$ is the angular diameter distance between the lens and the source.\n",
    "\n",
    "\n",
    "- and the average $\\langle\\Sigma_{\\rm crit}(z_s,z_l)^{-1}\\rangle$ is defined as $\\langle\\Sigma_{\\rm crit}(z_s,z_l)^{-1}\\rangle = \\int_{z_l + 0.1}^{+\\infty} d z_s\\ p_{\\rm photoz}(z_s)\\Sigma_{\\rm crit}(z_s,z_l)^{-1}$, where $p_{\\rm photoz}$ is the photometric probability density function for the background galaxy with index $s$.\n",
    "\n",
    "### Weights $w_s$\n",
    "\n",
    "The quantities $w_{s}$ are the weights that maximise the sigmnal-to-noise ratio of the excess surface density estimator. They downweight the galaxies that are close in redshift to the cluster (where the shape distorsion is small). It also indicates the lack of informations on both redshift and shape reconstruction for each background galaxies. \n",
    "\n",
    "- In the case where there is no error on the shape measurement (in the case of cosmoDC2), the weight $w_{s}$ writes $w_{s} = \\langle\\Sigma_{\\rm crit}(z_s,z_l)^{-1}\\rangle^{2}$,\n",
    "\n",
    "- In the case of true redshift $z_s$, the PDF reduces to a Dirac function centered at $z_s$, giving the average $\\langle\\Sigma_{\\rm crit}(z_l,z_s)^{-1}\\rangle = \\Sigma_{\\rm crit}(z_l,z_s)^{-1} $ and the weight $w_{s} = \\Sigma_{\\rm crit}(z_s,z_l)^{-2}$,\n"
   ]
  },
  {
   "cell_type": "markdown",
   "id": "e5943c4e",
   "metadata": {},
   "source": [
    "In this notebook, we compute the excess surface density in 3 different cases, using different redshift informations:\n",
    "\n",
    "- true backgroud galaxy redshift (computation of $w_{ls}^{\\rm true}$)\n",
    "- photometrical probability density function ($w_{ls}^{\\rm pdf}$)\n",
    "- mean photometric redshift ($w_{ls}^{\\rm mean}$)\n",
    "\n",
    "We will refer to the probability $p_{s} = \\frac{w_{s}}{\\sum_{s'} w_{s'}}$ in each case."
   ]
  },
  {
   "cell_type": "code",
   "execution_count": null,
   "id": "10193c45",
   "metadata": {},
   "outputs": [],
   "source": [
    "cosmo = clmm.Cosmology(H0 = 71.0, Omega_dm0 = 0.265 - 0.0448, Omega_b0 = 0.0448, Omega_k0 = 0.0)"
   ]
  },
  {
   "cell_type": "code",
   "execution_count": null,
   "id": "7c372126",
   "metadata": {},
   "outputs": [],
   "source": [
    "sigma_crit_1 = np.array(1/cosmo.eval_sigma_crit(z_min, z_bins))"
   ]
  },
  {
   "cell_type": "code",
   "execution_count": null,
   "id": "6ee095f6",
   "metadata": {},
   "outputs": [],
   "source": [
    "m = np.zeros([len(cat_complete), len(z_bins)])"
   ]
  },
  {
   "cell_type": "code",
   "execution_count": null,
   "id": "03f10e4a",
   "metadata": {},
   "outputs": [],
   "source": [
    "for i in range(len(cat_complete)):\n",
    "    m[i,:] = np.array(cat_complete['photoz_pdf'][i])"
   ]
  },
  {
   "cell_type": "code",
   "execution_count": null,
   "id": "102cb32e",
   "metadata": {},
   "outputs": [],
   "source": [
    "unormed_integral = scipy.integrate.simps(m * sigma_crit_1, x = z_bins, axis = 1)\n",
    "norm = scipy.integrate.simps(m, x = z_bins, axis = 1)"
   ]
  },
  {
   "cell_type": "code",
   "execution_count": null,
   "id": "487fe7a8",
   "metadata": {},
   "outputs": [],
   "source": [
    "ws_pdf = (unormed_integral/norm)**2\n",
    "ws_true = ( 1. /cosmo.eval_sigma_crit(z_min, cat_complete['redshift']) )**2\n",
    "ws_mean = ( 1. /cosmo.eval_sigma_crit(z_min, cat_complete['photoz_mean']) )**2"
   ]
  },
  {
   "cell_type": "code",
   "execution_count": null,
   "id": "36b39e6e",
   "metadata": {},
   "outputs": [],
   "source": [
    "ws_random = []\n",
    "for pdf in cat_complete['photoz_pdf']:\n",
    "    ws_random.append(np.random.choice(1./cosmo.eval_sigma_crit(z_min, z_bins), p = pdf/np.sum(pdf))**2)\n",
    "ws_random = np.array(ws_random)"
   ]
  },
  {
   "cell_type": "code",
   "execution_count": null,
   "id": "fe92eae1",
   "metadata": {},
   "outputs": [],
   "source": [
    "ws_with_photozs = [ws_pdf, ws_mean, ws_random]\n",
    "label = [r'$p_{s}^{\\rm pdf}$', \n",
    "         r'$p_{s}^{\\rm mean}$', \n",
    "         r'$p_{s}^{\\rm random}$']\n",
    "title = []\n",
    "\n",
    "x = np.linspace(0, 7, 100)\n",
    "fig, axs = plt.subplots(1, 3, figsize = (25,7))\n",
    "for i in range(3):\n",
    "    \n",
    "    axs[i].scatter(cat_complete['redshift'], ws_with_photozs[i]/np.sum(ws_with_photozs[i]), s = 1, c = 'r', label = label[i])\n",
    "    axs[i].scatter(cat_complete['redshift'], ws_true/np.sum(ws_true), s = 1, c = 'k')\n",
    "    axs[i].vlines(z_cl, 0, 1, color = 'k', linestyle = '--', label = 'cluster redshift', zorder = 1000)\n",
    "    axs[i].set_ylabel(label[i], fontsize = 25)\n",
    "    axs[i].set_xlabel(r'$z_{\\rm cosmoDC2}$', fontsize = 25)\n",
    "    axs[i].tick_params(axis='both', which = 'major', labelsize= 15, zorder = 0)\n",
    "    axs[i].legend(fontsize = 15, loc = 'lower right', frameon = True, framealpha = 1)\n",
    "    axs[i].set_ylim(0,max(ws_with_photozs[0]/np.sum(ws_with_photozs[0])))"
   ]
  },
  {
   "cell_type": "markdown",
   "id": "afdbd06e",
   "metadata": {},
   "source": [
    "The normalized weight $p_s$ downweight galaxies with that are close in redshift tothe cluster (black curves). For the trhee cases, the weights $p_s$ scatter arround the black curves below $z \\approx 1.5$, beyond this redshift, the eccurences of catastrophic photometric redshift reconstruction increases and the deviation to the black lines is larger."
   ]
  },
  {
   "cell_type": "code",
   "execution_count": null,
   "id": "766955fd",
   "metadata": {},
   "outputs": [],
   "source": [
    "cat_complete['ws_true'] = np.array(ws_true)\n",
    "cat_complete['ws_pdf'] = np.array(ws_pdf)\n",
    "cat_complete['ws_mean'] = np.array(ws_mean)\n",
    "cat_complete['ws_random'] = np.array(ws_random)"
   ]
  },
  {
   "cell_type": "code",
   "execution_count": null,
   "id": "0dc6f528",
   "metadata": {},
   "outputs": [],
   "source": [
    "data_complete = clmm.GCData(cat_complete)\n",
    "cl_complete = clmm.GalaxyCluster('DM_halo', ra_cl, dec_cl, z_cl, data_complete)"
   ]
  },
  {
   "cell_type": "markdown",
   "id": "d96069a2",
   "metadata": {},
   "source": [
    "We compute the tangential ellipticity for each background galaxy relative to the dark matter halo center."
   ]
  },
  {
   "cell_type": "code",
   "execution_count": null,
   "id": "53d016e7",
   "metadata": {},
   "outputs": [],
   "source": [
    "cl_complete.compute_tangential_and_cross_components(\n",
    "                                    shape_component1='e1', shape_component2='e2', \n",
    "                                    tan_component='shear_t', cross_component='shear_x',\n",
    "                                    geometry=\"flat\")\n",
    "cl_complete.galcat['r'] = cosmo.eval_da(cl_complete.z)*cl_complete.galcat['theta']"
   ]
  },
  {
   "cell_type": "markdown",
   "id": "ecffc0ee",
   "metadata": {},
   "source": [
    "We also create a compltete background galaxy catalog with additive redshift cut by removing galaxies with true redshift beyond the threeshold. "
   ]
  },
  {
   "cell_type": "code",
   "execution_count": null,
   "id": "abd9b8dc",
   "metadata": {},
   "outputs": [],
   "source": [
    "data_true = clmm.GCData(cl_complete.galcat[cl_complete.galcat['redshift'] > z_min])\n",
    "cl_true = clmm.GalaxyCluster('DM_halo', ra_cl, dec_cl, z_cl, data_true)"
   ]
  },
  {
   "cell_type": "markdown",
   "id": "a6ec0fbd",
   "metadata": {},
   "source": [
    "We now compute the excess surface density profile by binning the backgroud galaxy catalog in radial bins and computing the mean excess surface density in each bins using the above equation. \n",
    "- We define a set of bin edges,\n",
    "- We compute the average excess surface density in each bins as described above for the 4 cases,\n",
    "- We compute the errorbars as the standard deviation in each bin."
   ]
  },
  {
   "cell_type": "code",
   "execution_count": null,
   "id": "61c91147",
   "metadata": {},
   "outputs": [],
   "source": [
    "bin_edges = clmm.make_bins(1,  6, nbins=10, method='evenlog10width')\n",
    "radial_bin = [[bin_edges[i], bin_edges[i + 1]] for i in range(len(bin_edges)-1)]"
   ]
  },
  {
   "cell_type": "code",
   "execution_count": null,
   "id": "1cf6a92c",
   "metadata": {},
   "outputs": [],
   "source": [
    "def make_radial_profile(catalog = 1, radius = '', tangential_ellipticity = '', weight = '', radial_bin = 1):\n",
    "\n",
    "    profile = Table(names=['r', 'DS', 'DS_err'])\n",
    "    \n",
    "    for i, r_bin in enumerate(radial_bin):\n",
    "        \n",
    "        mask = (catalog.galcat[radius] > r_bin[0])*(catalog.galcat[radius] <= r_bin[1])*(catalog.galcat[weight] != 0)\n",
    "\n",
    "        data_cut = catalog.galcat[mask]\n",
    "        \n",
    "        r_mean = np.mean(data_cut['r'])\n",
    "\n",
    "        ds = np.average(data_cut[tangential_ellipticity]*data_cut[weight]**(-0.5), \n",
    "                             weights = data_cut[weight])\n",
    "        \n",
    "        #We compute the standard deviation of the excess surface density\n",
    "        \n",
    "        ds_rms = np.sqrt(np.average((data_cut['shear_t']*data_cut[weight]**(-0.5) - ds)**2, \n",
    "                                         weights = data_cut[weight]))/np.sqrt(len(data_cut))\n",
    "\n",
    "        profile.add_row([r_mean, ds, ds_rms])\n",
    "        \n",
    "    return profile"
   ]
  },
  {
   "cell_type": "markdown",
   "id": "2e15ce52",
   "metadata": {},
   "source": [
    "### Effect of weight computation\n",
    "We compute the excess surface density in 3 different cases, using different redshift informations and usong exclusively the `cat_true` catalog:\n",
    "\n",
    "- true backgroud galaxy redshift (computation of $w_{ls}^{\\rm true}$)\n",
    "- photometrical probability density function ($w_{ls}^{\\rm pdf}$)\n",
    "- mean photometric redshift ($w_{ls}^{\\rm mean}$)\n",
    "- random sample redshift over the pdf ($w_{ls}^{\\rm random}$)"
   ]
  },
  {
   "cell_type": "code",
   "execution_count": null,
   "id": "7d5f9599",
   "metadata": {},
   "outputs": [],
   "source": [
    "#true redhift\n",
    "profile_true = make_radial_profile(catalog = cl_true, radius = 'r', \n",
    "                                   tangential_ellipticity = 'shear_t', \n",
    "                                   weight = 'ws_true', \n",
    "                                   radial_bin = radial_bin)\n",
    "\n",
    "# using full photometric PDF\n",
    "profile_pdf = make_radial_profile(catalog = cl_true, radius = 'r', \n",
    "                                  tangential_ellipticity = 'shear_t', \n",
    "                                  weight = 'ws_pdf', \n",
    "                                  radial_bin = radial_bin)\n",
    "\n",
    "# using mean photometric redshift\n",
    "profile_mean = make_radial_profile(catalog = cl_true, radius = 'r', \n",
    "                                   tangential_ellipticity = 'shear_t', \n",
    "                                   weight = 'ws_mean', \n",
    "                                   radial_bin = radial_bin)\n",
    "\n",
    "# using random sample of the photometric PDF\n",
    "profile_random = make_radial_profile(catalog = cl_true, radius = 'r', \n",
    "                                     tangential_ellipticity = 'shear_t', \n",
    "                                     weight = 'ws_random', \n",
    "                                     radial_bin = radial_bin)"
   ]
  },
  {
   "cell_type": "markdown",
   "id": "08e3b3ef",
   "metadata": {},
   "source": [
    "We use the CLMM DESC code to compute the 'fiducial' excess surface mass density, by using a NFW profile with halo mass equals to the FoF mass from the catalog. We choose a concentration of 4."
   ]
  },
  {
   "cell_type": "code",
   "execution_count": null,
   "id": "09db7f4c",
   "metadata": {},
   "outputs": [],
   "source": [
    "cosmo = clmm.Cosmology(H0=70.0, Omega_dm0=0.27-0.045, Omega_b0=0.045, Omega_k0=0.0)\n",
    "moo = clmm.Modeling(massdef='mean', delta_mdef=200, halo_profile_model='nfw')\n",
    "moo.set_cosmo(cosmo)\n",
    "moo.set_concentration(4)\n",
    "moo.set_mass(mass_cl)\n",
    "r = np.logspace(np.log10(0.1), np.log10(20), 100)\n",
    "DeltaSigma = moo.eval_excess_surface_density(r, z_cl)"
   ]
  },
  {
   "cell_type": "code",
   "execution_count": null,
   "id": "86337d8c",
   "metadata": {},
   "outputs": [],
   "source": [
    "ylabel = r'$\\hat{\\Delta\\Sigma}_+$ ' +'$[$' + r'${\\rm M}$' + r'$_\\odot\\;$'+ r'${\\rm Mpc}$'+r'$^{-2}$'r'$]$'\n",
    "xlabel = r'$R\\ [$' + r'${\\rm Mpc}$' + r'$]$'\n",
    "plt.figure(figsize = (10,7))\n",
    "plt.grid(True, which=\"both\", ls=\"-\")\n",
    "plt.rcParams['axes.linewidth'] = 2\n",
    "plt.tick_params(axis='both', which = 'both', labelsize= 15)\n",
    "deltalogr = 0.03\n",
    "dr = deltalogr*profile_true['r']\n",
    "plt.errorbar(profile_true['r']  - 1*dr, profile_true['DS']  , profile_true['DS_err']  , fmt = ' ', marker = 'o', label = r'with $w_{ls}^{\\rm true}$')\n",
    "plt.errorbar(profile_pdf['r']   + 0*dr, profile_pdf['DS']   , profile_pdf['DS_err']   , fmt = ' ', marker = 'o', label = r'with $w_{ls}^{\\rm pdf}$')\n",
    "plt.errorbar(profile_mean['r']  + 1*dr, profile_mean['DS']  , profile_mean['DS_err']  , fmt = ' ', marker = 'o', label = r'with $w_{ls}^{\\rm mean}$')\n",
    "plt.errorbar(profile_random['r']+ 2*dr, profile_random['DS'], profile_random['DS_err'], fmt = ' ', marker = 'o', label = r'with $w_{ls}^{\\rm random}$')\n",
    "plt.plot(r, DeltaSigma,'-k', label = 'fiducial')\n",
    "plt.xscale('log')\n",
    "plt.xlim(1,10)\n",
    "plt.ylim(-0.2e14,0.8e14)\n",
    "plt.xlabel(xlabel, fontsize = 20)\n",
    "plt.ylabel(ylabel, fontsize = 20)\n",
    "plt.legend(frameon = False, fontsize = 20, loc = 'upper right')\n",
    "plt.title('Excess surface density', fontsize = 20)\n",
    "plt.show()"
   ]
  },
  {
   "cell_type": "markdown",
   "id": "5e03c956",
   "metadata": {},
   "source": [
    "Below, we plot the bias :\n",
    "    $$ bias = \\frac{\\hat{\\Delta\\Sigma}^{\\rm (i)} - \\hat{\\Delta\\Sigma}^{\\rm true}}{\\hat{\\Delta\\Sigma}^{\\rm true}}$$\n",
    "- where (i) denotes the different cases\n",
    "- $\\hat{\\Delta\\Sigma}^{\\rm true}$ is the profile using only foreground galaxies and true redshifts"
   ]
  },
  {
   "cell_type": "code",
   "execution_count": null,
   "id": "64c00f97",
   "metadata": {},
   "outputs": [],
   "source": [
    "plt.figure(figsize = (10,7))\n",
    "plt.grid(True, which=\"both\", ls=\"-\")\n",
    "plt.rcParams['axes.linewidth'] = 2\n",
    "plt.tick_params(axis='both', which = 'both', labelsize= 15)\n",
    "plt.errorbar(profile_pdf['r']   + 0*dr, -100*(profile_true['DS'] - profile_pdf['DS'])/profile_true['DS']    , fmt = '-', marker = 'o', label = r'with $w_{ls}^{\\rm pdf}$')\n",
    "plt.errorbar(profile_mean['r']  + 1*dr, -100*(profile_true['DS'] - profile_mean['DS'])/profile_true['DS']   , fmt = '-', marker = 'o', label = r'with $w_{ls}^{\\rm mean}$')\n",
    "plt.errorbar(profile_random['r']+ 2*dr, -100*(profile_true['DS'] - profile_random['DS'])/profile_true['DS'] , fmt = '-', marker = 'o', label = r'with $w_{ls}^{\\rm random}$')\n",
    "plt.xscale('log')\n",
    "plt.xlabel(xlabel, fontsize = 20)\n",
    "plt.ylabel(f'bias $(\\%)$', fontsize = 20)\n",
    "plt.legend(frameon = False, fontsize = 13)\n",
    "plt.title('bias to true redshift case', fontsize = 20)\n",
    "plt.show()"
   ]
  },
  {
   "cell_type": "markdown",
   "id": "8be0ed96",
   "metadata": {},
   "source": [
    "## Contamination effect"
   ]
  },
  {
   "cell_type": "markdown",
   "id": "f9f3aaec",
   "metadata": {},
   "source": [
    "We create two catalogs based on different background galaxy selection criteria:\n",
    "- `cl_photoz` with cut =  $\\langle z \\rangle > z_{DM} + 0.1$\n",
    "- `cl_prpbability` with cut : $P(z > z_{\\rm DM} + 0.1)  > 0.95$"
   ]
  },
  {
   "cell_type": "code",
   "execution_count": null,
   "id": "3ca5c23a",
   "metadata": {},
   "outputs": [],
   "source": [
    "data_photoz = clmm.GCData(cl_complete.galcat[cl_complete.galcat['photoz_mean'] > z_min])\n",
    "cl_photoz = clmm.GalaxyCluster('DM_halo', ra_cl, dec_cl, z_cl, data_photoz)"
   ]
  },
  {
   "cell_type": "code",
   "execution_count": null,
   "id": "4dd9e335",
   "metadata": {},
   "outputs": [],
   "source": [
    "data_probability = clmm.GCData(cl_complete.galcat[cl_complete.galcat['background_probability'] > 0.95])\n",
    "cl_probability = clmm.GalaxyCluster('DM_halo', ra_cl, dec_cl, z_cl, data_probability)"
   ]
  },
  {
   "cell_type": "code",
   "execution_count": null,
   "id": "680be6da",
   "metadata": {},
   "outputs": [],
   "source": [
    "def contamination(catalog = 1, radius = '', radial_bin = 1):\n",
    "\n",
    "    profile = Table(names=['r', 'count_foreground', 'count_member'])\n",
    "    \n",
    "    for i, r_bin in enumerate(radial_bin):\n",
    "        \n",
    "        mask_foreground = (catalog.galcat['redshift'] < z_cl)\n",
    "        \n",
    "        mask_radius = (catalog.galcat[radius] > r_bin[0])*(catalog.galcat[radius] <= r_bin[1])\n",
    "\n",
    "        data_cut = catalog.galcat[mask_radius]\n",
    "        \n",
    "        data_cut_foreground = catalog.galcat[mask_radius*mask_foreground]\n",
    "        \n",
    "        r_mean = np.mean(data_cut['r'])\n",
    "        \n",
    "        data_member = catalog.galcat['galaxy_id'][mask_radius][np.isin(catalog.galcat['galaxy_id'][mask_radius],member_gal_catalog['galaxy_id'])]\n",
    "\n",
    "        profile.add_row([r_mean, len(data_cut_foreground)/len(data_cut), len(data_member)/len(data_cut)])\n",
    "        \n",
    "    return profile"
   ]
  },
  {
   "cell_type": "code",
   "execution_count": null,
   "id": "f2bf9795",
   "metadata": {},
   "outputs": [],
   "source": [
    "bin_edges_ = clmm.make_bins(0.1,  6, nbins=10, method='evenlog10width')\n",
    "radial_bin_ = [[bin_edges_[i], bin_edges_[i + 1]] for i in range(len(bin_edges_)-1)]\n",
    "radial_middle = np.mean(radial_bin_, axis = 1)\n",
    "contamination_photoz = contamination(catalog = cl_photoz, radius = 'r', \n",
    "                                  radial_bin = radial_bin_)\n",
    "contamination_probability = contamination(catalog = cl_probability, radius = 'r', \n",
    "                                  radial_bin = radial_bin_)"
   ]
  },
  {
   "cell_type": "code",
   "execution_count": null,
   "id": "48364938",
   "metadata": {},
   "outputs": [],
   "source": [
    "plt.figure(figsize = (10,7))\n",
    "plt.rcParams['axes.linewidth'] = 2\n",
    "plt.tick_params(axis='both', which = 'both', labelsize= 15)\n",
    "plt.plot(radial_middle, contamination_photoz['count_foreground'],'b', label = 'cl_photoz : foreground galaxies')\n",
    "plt.plot(radial_middle,  contamination_photoz['count_member'],'--b', label = 'cl_photoz : member galaxies')\n",
    "plt.plot(radial_middle, contamination_probability['count_foreground'],'r', label = 'cl_probability : foreground galaxies')\n",
    "plt.plot(radial_middle,  contamination_probability['count_member'],'--r', label = 'cl_probability : member galaxies')\n",
    "plt.xscale('log')\n",
    "plt.xlabel(xlabel, fontsize = 20)\n",
    "plt.ylabel(f'fraction of galaxies in each radial bin', fontsize = 20)\n",
    "plt.legend(frameon = False, fontsize = 17)\n",
    "plt.show()"
   ]
  },
  {
   "cell_type": "code",
   "execution_count": null,
   "id": "cb76f728",
   "metadata": {},
   "outputs": [],
   "source": [
    "profile_photoz = make_radial_profile(catalog = cl_photoz, radius = 'r', \n",
    "                                  tangential_ellipticity = 'shear_t', \n",
    "                                  weight = 'ws_pdf', \n",
    "                                  radial_bin = radial_bin)"
   ]
  },
  {
   "cell_type": "code",
   "execution_count": null,
   "id": "48a5b3c4",
   "metadata": {},
   "outputs": [],
   "source": [
    "profile_probability = make_radial_profile(catalog = cl_probability, radius = 'r', \n",
    "                                  tangential_ellipticity = 'shear_t', \n",
    "                                  weight = 'ws_pdf', \n",
    "                                  radial_bin = radial_bin)"
   ]
  },
  {
   "cell_type": "code",
   "execution_count": null,
   "id": "384a08ee",
   "metadata": {},
   "outputs": [],
   "source": [
    "ylabel = r'$\\hat{\\Delta\\Sigma}_+$ ' +'$[$' + r'${\\rm M}$' + r'$_\\odot\\;$'+ r'${\\rm Mpc}$'+r'$^{-2}$'r'$]$'\n",
    "xlabel = r'$R\\ [$' + r'${\\rm Mpc}$' + r'$]$'\n",
    "plt.figure(figsize = (10,7))\n",
    "plt.grid(True, which=\"both\", ls=\"-\")\n",
    "plt.rcParams['axes.linewidth'] = 2\n",
    "plt.tick_params(axis='both', which = 'both', labelsize= 15)\n",
    "deltalogr = 0.03\n",
    "dr = deltalogr*profile_true['r']\n",
    "\n",
    "plt.errorbar(profile_true['r']   + 0*dr, profile_true['DS']   , profile_true['DS_err']   , fmt = ' ', marker = 'o', label = r'true - cut $z_{\\rm cosmoDC2} > z_{DM} + 0.1$')\n",
    "plt.errorbar(profile_photoz['r']   + 1*dr, profile_photoz['DS']   , profile_photoz['DS_err']   , fmt = ' ', marker = 'o', label = r'photoz - cut $\\langle z \\rangle > z_{DM} + 0.1$')\n",
    "plt.errorbar(profile_probability['r']   +2*dr, profile_probability['DS']   , profile_probability['DS_err']   , fmt = ' ', marker = 'o', label = r'photoz - cut : $P(z > z_{\\rm DM} + 0.1)  > 0.95$')\n",
    "plt.plot(r, DeltaSigma,'-k', label = 'fiducial')\n",
    "plt.xscale('log')\n",
    "plt.xlim(1,10)\n",
    "plt.ylim(-0.2e14,0.8e14)\n",
    "plt.xlabel(xlabel, fontsize = 20)\n",
    "plt.ylabel(ylabel, fontsize = 20)\n",
    "plt.legend(frameon = False, fontsize = 15, loc = 'upper right')\n",
    "plt.title('Excess surface density', fontsize = 20)\n",
    "plt.show()"
   ]
  }
 ],
 "metadata": {
  "kernelspec": {
   "display_name": "mydesc",
   "language": "python",
   "name": "mydesc"
  },
  "language_info": {
   "codemirror_mode": {
    "name": "ipython",
    "version": 3
   },
   "file_extension": ".py",
   "mimetype": "text/x-python",
   "name": "python",
   "nbconvert_exporter": "python",
   "pygments_lexer": "ipython3",
   "version": "3.7.6"
  }
 },
 "nbformat": 4,
 "nbformat_minor": 5
}
