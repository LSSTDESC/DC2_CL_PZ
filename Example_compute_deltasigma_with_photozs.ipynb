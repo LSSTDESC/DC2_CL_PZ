{
 "cells": [
  {
   "cell_type": "markdown",
   "id": "d3e4d2f8",
   "metadata": {},
   "source": [
    "# Basic usage of the cosmoDC2 extragalactic catalog and photoz add-on catalog - Weak gravitational lensing shear by dark matter halo"
   ]
  },
  {
   "cell_type": "markdown",
   "id": "9c0041f5",
   "metadata": {},
   "source": [
    "### Compute the excess surface density arround clusters using photometrical redshift in cosmoDC2 extragalactic catalog"
   ]
  },
  {
   "cell_type": "markdown",
   "id": "f23780c7",
   "metadata": {},
   "source": [
    "#### This notebook can be run at NERSC or CC-IN2P3 where the DESC DC2 products are stored. You need to be a DESC member to be able to access those."
   ]
  },
  {
   "cell_type": "markdown",
   "id": "6ba0b20f",
   "metadata": {},
   "source": [
    "This notebook will show how to use the photometric redshift (photo-z) add-on columns of cosmoDC2 extragalactic catalog in order to estimate the average excess surface density around cluster. After going through this notebook, you should be able to access:\n",
    "- load a cosmoDC2 dark matter halo catalog,\n",
    "- load and access the cosmoDC2 extragalctic catalog + photo-z add-on columns (a detailled version of this step was edited by Sam Shmidt and is available at https://github.com/LSSTDESC/DC2-analysis/blob/master/tutorials/extragalactic_gcr_photoz_catalogs.ipynb),\n",
    "- Calculate the specific weights to compute the mean excess surface density around cluster."
   ]
  },
  {
   "cell_type": "code",
   "execution_count": 1,
   "id": "a412912f",
   "metadata": {},
   "outputs": [],
   "source": [
    "import numpy as np\n",
    "import GCRCatalogs\n",
    "import matplotlib.pyplot as plt\n",
    "import scipy.integrate"
   ]
  },
  {
   "cell_type": "code",
   "execution_count": 2,
   "id": "fc56dc14",
   "metadata": {},
   "outputs": [],
   "source": [
    "import matplotlib.pyplot as plt\n",
    "import numpy as np\n",
    "from astropy.table import Table, join\n",
    "import GCRCatalogs\n",
    "try: import clmm\n",
    "except:\n",
    "    import notebook_install\n",
    "    notebook_install.install_clmm_pipeline(upgrade=False)\n",
    "    import clmm\n",
    "    \n",
    "import healpy"
   ]
  },
  {
   "cell_type": "markdown",
   "id": "64821177",
   "metadata": {},
   "source": [
    "# 1. Prepare a dark matter halo from cosmoDC2"
   ]
  },
  {
   "cell_type": "code",
   "execution_count": 3,
   "id": "3587f4ed",
   "metadata": {},
   "outputs": [],
   "source": [
    "extragalactic_cat = GCRCatalogs.load_catalog('cosmoDC2_v1.1.4_small')"
   ]
  },
  {
   "cell_type": "markdown",
   "id": "484f03fe",
   "metadata": {},
   "source": [
    "In order to speed up the extraction of dark matter halo/galaxy quantities, we select a dark matter halo within a specified healpix pixel. "
   ]
  },
  {
   "cell_type": "code",
   "execution_count": 4,
   "id": "223c2b96",
   "metadata": {},
   "outputs": [],
   "source": [
    "healpix_pixels = extragalactic_cat.get_catalog_info()['healpix_pixels']"
   ]
  },
  {
   "cell_type": "code",
   "execution_count": 5,
   "id": "1810d880",
   "metadata": {},
   "outputs": [
    {
     "name": "stdout",
     "output_type": "stream",
     "text": [
      "The selected healpix pixel is 10072\n"
     ]
    }
   ],
   "source": [
    "healpix_selected = healpix_pixels[10]\n",
    "print('The selected healpix pixel is ' + str(healpix_selected))"
   ]
  },
  {
   "cell_type": "markdown",
   "id": "b5a1ad3a",
   "metadata": {},
   "source": [
    "We extract the dark matter halos located in this specified healpix pixel with some property cut (mass and redhift range). We select the most massive one in the sample."
   ]
  },
  {
   "cell_type": "code",
   "execution_count": 6,
   "id": "e525236c",
   "metadata": {},
   "outputs": [
    {
     "name": "stdout",
     "output_type": "stream",
     "text": [
      "There are 47 clusters in this mass and redshift range\n"
     ]
    }
   ],
   "source": [
    "# get list of massive halos in a given redshift and mass range\n",
    "mmin = 1.e14 # Msun\n",
    "zmin = 0.\n",
    "zmax = 1\n",
    "massive_halos = extragalactic_cat.get_quantities(['halo_mass','hostHaloMass','redshift','ra', 'dec', 'halo_id'],\n",
    "                                                 filters=[f'halo_mass > {mmin}','is_central==True',\n",
    "                                                          f'redshift>{zmin}', f'redshift<{zmax}'], native_filters=['healpix_pixel == ' + str(healpix_selected)])\n",
    "N_cl = len(massive_halos['halo_mass'])\n",
    "print(f'There are {N_cl} clusters in this mass and redshift range')"
   ]
  },
  {
   "cell_type": "code",
   "execution_count": 7,
   "id": "b8747a0f",
   "metadata": {},
   "outputs": [],
   "source": [
    "select = massive_halos['halo_mass'] == np.max(massive_halos['halo_mass'])\n",
    "ra_cl = massive_halos['ra'][select][0]\n",
    "dec_cl = massive_halos['dec'][select][0]\n",
    "z_cl = massive_halos['redshift'][select][0]\n",
    "mass_cl =massive_halos['halo_mass'][select][0]\n",
    "id_cl = massive_halos['halo_id'][select][0]"
   ]
  },
  {
   "cell_type": "code",
   "execution_count": 8,
   "id": "ffa733fc",
   "metadata": {},
   "outputs": [
    {
     "name": "stdout",
     "output_type": "stream",
     "text": [
      "The most massive cluster is halo 93100157401 in ra = 67.48 deg, dec = -40.93 deg, z = 0.22, with mass = 7.82e+14 Msun\n"
     ]
    }
   ],
   "source": [
    "print (f'The most massive cluster is halo {id_cl} in ra = {ra_cl:.2f} deg, dec = {dec_cl:.2f} deg, z = {z_cl:.2f}, with mass = {mass_cl:.2e} Msun')"
   ]
  },
  {
   "cell_type": "markdown",
   "id": "8b3831a2",
   "metadata": {},
   "source": [
    "# 2. Extract background galaxy catalog with location and shape properties"
   ]
  },
  {
   "cell_type": "markdown",
   "id": "382ffe6a",
   "metadata": {},
   "source": [
    "The galaxy shapes are available in the cosmoDC2 extragalaxtic catalog, and photometric related inforamtions are available separetly in add-on columns. We first extract the background galaxy shapes for galaxies within a window of 0.6 degrees arround the cluster position. As the redshift cut to identify background galaxies is applied to mean photometric redshift of galaxies ($\\langle z_{\\rm gal} \\rangle_{\\rm photoz} > z_{\\rm l} + 0.1$), where $z_{\\rm l}$ is the redshift of the lens dark matter halo. we then extract the all galaxy information in this healpix pixel to apply futher cuts."
   ]
  },
  {
   "cell_type": "markdown",
   "id": "80c68b1d",
   "metadata": {},
   "source": [
    "### Apply coordinates, redshift and magnitude cuts to select backgroud galaxies around the cluster"
   ]
  },
  {
   "cell_type": "markdown",
   "id": "db213e4b",
   "metadata": {},
   "source": [
    "- Box of 0.6 deg around the cluster center\n",
    "- Galaxies with mag_i < 25"
   ]
  },
  {
   "cell_type": "code",
   "execution_count": 9,
   "id": "d555e63b",
   "metadata": {},
   "outputs": [],
   "source": [
    "ra_min, ra_max = ra_cl - 0.3, ra_cl + 0.3\n",
    "dec_min, dec_max = dec_cl - 0.3, dec_cl + 0.3\n",
    "z_min = z_cl + 0.1\n",
    "mag_i_max = 25"
   ]
  },
  {
   "cell_type": "markdown",
   "id": "b0a13bb9",
   "metadata": {},
   "source": [
    "We load the catalog in the contiguous healpix pixels arround the cluster position corresponding to a window O.6 deg (we use the `healpy` package to find the correspondance healpix-position)"
   ]
  },
  {
   "cell_type": "code",
   "execution_count": 10,
   "id": "ab31460b",
   "metadata": {},
   "outputs": [
    {
     "name": "stdout",
     "output_type": "stream",
     "text": [
      "The contiguous healpix pixels arround the cluster position are [10072]\n"
     ]
    }
   ],
   "source": [
    "n_points = 300\n",
    "ra_random, dec_random = np.random.random(n_points)*(ra_max - ra_min) + ra_min, np.random.random(n_points)*(dec_max - dec_min) + dec_min\n",
    "contiguous_healpix_pixels = np.unique(healpy.ang2pix(32, ra_random, dec_random, nest=False, lonlat=True))\n",
    "print('The contiguous healpix pixels arround the cluster position are '+ str(contiguous_healpix_pixels))"
   ]
  },
  {
   "cell_type": "markdown",
   "id": "f10ab2ea",
   "metadata": {},
   "source": [
    "To compute the excess surface density arround the dark matter halo, we extract the weak lensing quantities for each background galaxies:\n",
    "- complex shear componenent `'shear_1'` & `'shear_2'`\n",
    "- convergence `'convergence'`\n",
    "- intrinsic ellipticity components `'ellipticity_1_true'` & `'ellipticity_2_true'`"
   ]
  },
  {
   "cell_type": "code",
   "execution_count": 11,
   "id": "878b44e6",
   "metadata": {},
   "outputs": [
    {
     "name": "stdout",
     "output_type": "stream",
     "text": [
      "37454 saved galaxies\n",
      "CPU times: user 26.7 s, sys: 10.7 s, total: 37.4 s\n",
      "Wall time: 36.8 s\n"
     ]
    }
   ],
   "source": [
    "%%time\n",
    "coord_filters = ['ra >= {}'.format(ra_min),'ra < {}'.format(ra_max),'dec >= {}'.format(dec_min),'dec < {}'.format(dec_max)]\n",
    "z_filters = ['redshift >= 0']\n",
    "mag_filters = ['mag_i < {}'.format(mag_i_max)]\n",
    "gal_cat = extragalactic_cat.get_quantities(['galaxy_id', \n",
    "                                            'ra', 'dec',\n",
    "                                            'shear_1', 'shear_2', \n",
    "                                            'ellipticity_1_true', 'ellipticity_2_true',\n",
    "                                            'redshift', 'convergence'],\n",
    "                                            filters=(coord_filters + z_filters + mag_filters), \n",
    "                                            native_filters=['healpix_pixel == ' + str(healpix_selected)])\n",
    "print(str(len(gal_cat['galaxy_id'])) +' saved galaxies')"
   ]
  },
  {
   "cell_type": "markdown",
   "id": "29687d45",
   "metadata": {},
   "source": [
    "We compute the obseved galaxy ellipticities using shear, convergence and intrinsic ellipticities (we use the functionalities of the `CLMM` package):"
   ]
  },
  {
   "cell_type": "markdown",
   "id": "6e3ef2d2",
   "metadata": {},
   "source": [
    "$$\n",
    "\\epsilon^{\\rm obs} =\n",
    "        \\frac{\\epsilon^{\\rm int} + g}{1 + g^*\\epsilon^{\\rm int}}$$ where $$g = \\frac{\\gamma}{1-\\kappa}$$"
   ]
  },
  {
   "cell_type": "code",
   "execution_count": 12,
   "id": "bbdb4612",
   "metadata": {},
   "outputs": [],
   "source": [
    "gal_cat['e1'] = clmm.utils.compute_lensed_ellipticity(gal_cat['ellipticity_1_true'], \n",
    "                                                      gal_cat['ellipticity_2_true'], \n",
    "                                                      gal_cat['shear_1'], gal_cat['shear_2'], \n",
    "                                                      gal_cat['convergence'])[0]\n",
    "\n",
    "gal_cat['e2'] = clmm.utils.compute_lensed_ellipticity(gal_cat['ellipticity_1_true'], \n",
    "                                                      gal_cat['ellipticity_2_true'], \n",
    "                                                      gal_cat['shear_1'], \n",
    "                                                      gal_cat['shear_2'], \n",
    "                                                      gal_cat['convergence'])[1]"
   ]
  },
  {
   "cell_type": "code",
   "execution_count": 13,
   "id": "8440a498",
   "metadata": {},
   "outputs": [
    {
     "data": {
      "image/png": "[encoded data removed]",
      "text/plain": [
       "<Figure size 360x360 with 1 Axes>"
      ]
     },
     "metadata": {
      "needs_background": "light"
     },
     "output_type": "display_data"
    }
   ],
   "source": [
    "plt.figure(figsize = (5,5))\n",
    "plt.rcParams['axes.linewidth'] = 2\n",
    "plt.hist2d(gal_cat['ra'], gal_cat['dec'], cmin = 1, bins = [50, 50])\n",
    "plt.xlabel('ra', fontsize = 23)\n",
    "plt.ylabel('dec', fontsize = 23)\n",
    "plt.title('Backgroud galaxy catalog 2d histogram')\n",
    "plt.show()"
   ]
  },
  {
   "cell_type": "code",
   "execution_count": 14,
   "id": "06ed3511",
   "metadata": {},
   "outputs": [],
   "source": [
    "gal_cat['z'] = gal_cat['redshift']"
   ]
  },
  {
   "cell_type": "code",
   "execution_count": 15,
   "id": "6b518eb7",
   "metadata": {},
   "outputs": [],
   "source": [
    "gal_cat = Table(gal_cat)"
   ]
  },
  {
   "cell_type": "markdown",
   "id": "75d70304",
   "metadata": {},
   "source": [
    "# 3. Extract photometrical related informations for background galaxies"
   ]
  },
  {
   "cell_type": "markdown",
   "id": "b456a60b",
   "metadata": {},
   "source": [
    "The full details of the photo-z quantities in the add-on catalog `'cosmoDC2_v1.1.4_small_with_photozs_v1'` are given in the notebook https://github.com/LSSTDESC/DC2-analysis/blob/master/tutorials/extragalactic_gcr_photoz_catalogs.ipynb by Sam Schmidt. This catalog contains photometric redshifts that were computed with the BPZ template-based code (https://ui.adsabs.harvard.edu/abs/2000ApJ...536..571B/abstract). In this notebook we show the estimation of the excess surface density using BPZ redshift. FlexZBoost photometric redshift are also avaliable by taking the catalog `'cosmoDC2_v1.1.4_small_with_photozs_flexzboost_v1'`. For weak lensing purposes, we extract for each background galaxies in the above sample:\n",
    "- the probability density function `'photoz_pdf'`\n",
    "- the mean photometric redshift `'photoz_mean'`\n",
    "\n",
    "Let's note that the add-on catalog does not support geometrical cut (in ra, dec, redshift). We first extract the photo-z informations in the corresponding contiguous healpix pixels, we then match with the galaxy sample."
   ]
  },
  {
   "cell_type": "code",
   "execution_count": 16,
   "id": "035981ef",
   "metadata": {
    "tags": []
   },
   "outputs": [
    {
     "name": "stdout",
     "output_type": "stream",
     "text": [
      "CPU times: user 2.65 s, sys: 1.4 s, total: 4.05 s\n",
      "Wall time: 7.17 s\n"
     ]
    }
   ],
   "source": [
    "%%time\n",
    "cat = GCRCatalogs.load_catalog('cosmoDC2_v1.1.4_small_with_photozs_v1')"
   ]
  },
  {
   "cell_type": "code",
   "execution_count": 17,
   "id": "e9ae7ece",
   "metadata": {},
   "outputs": [
    {
     "name": "stdout",
     "output_type": "stream",
     "text": [
      "CPU times: user 25.8 s, sys: 19 s, total: 44.8 s\n",
      "Wall time: 44.7 s\n"
     ]
    }
   ],
   "source": [
    "%%time\n",
    "photoz_cat = cat.get_quantities(['photoz_pdf','photoz_mean','redshift', 'galaxy_id'],\n",
    "                            native_filters=['healpix_pixel=='+str(contiguous_healpix_pixels[0])])"
   ]
  },
  {
   "cell_type": "markdown",
   "id": "49c0220c",
   "metadata": {},
   "source": [
    "We create the astrupy package to match with the galaxy sample."
   ]
  },
  {
   "cell_type": "code",
   "execution_count": 18,
   "id": "bbb53854",
   "metadata": {},
   "outputs": [],
   "source": [
    "tab_astropy = Table()\n",
    "tab_astropy['galaxy_id'] = photoz_cat['galaxy_id']\n",
    "tab_astropy['photoz_pdf'] =  photoz_cat['photoz_pdf']\n",
    "tab_astropy['photoz_mean'] =  photoz_cat['photoz_mean']"
   ]
  },
  {
   "cell_type": "markdown",
   "id": "2646135c",
   "metadata": {},
   "source": [
    "### Selection of background galaxies:\n",
    "We discuss briefly the effect of redhsift selection of background galaxies, by considering two different cases:\n",
    "- `cat_photoz`: \n",
    "The background galaxies can be selected by considering that the mean photometric redshift veryfies $\\langle z \\rangle_{\\rm photoz} > z_{\\rm l} + 0.1$\n",
    "- `cat_true`: \n",
    "The background galaxies are selected with $z_{\\rm cosmoDC2} > z_{\\rm l} + 0.1$"
   ]
  },
  {
   "cell_type": "code",
   "execution_count": null,
   "id": "3119c584",
   "metadata": {},
   "outputs": [],
   "source": [
    "mask_photoz = tab_astropy['photoz_mean'] > z_min\n",
    "tab_photoz_z_cut = tab_astropy[mask_photoz]\n",
    "cat_photoz = join(tab_photoz_z_cut, gal_cat, keys = 'galaxy_id')"
   ]
  },
  {
   "cell_type": "code",
   "execution_count": null,
   "id": "4327d99a",
   "metadata": {},
   "outputs": [],
   "source": [
    "mask_true = gal_cat['redshift'] > z_min\n",
    "gal_cat_cut = gal_cat[mask_true]\n",
    "cat_true = join(tab_astropy, gal_cat_cut, keys = 'galaxy_id')"
   ]
  },
  {
   "cell_type": "code",
   "execution_count": null,
   "id": "76f820cc",
   "metadata": {},
   "outputs": [],
   "source": [
    "plt.figure(figsize = (10,7))\n",
    "plt.rcParams['axes.linewidth'] = 2\n",
    "bins = np.linspace(0, 3, 40)\n",
    "plt.tick_params(axis='both', which = 'both', labelsize= 15)\n",
    "plt.hist(cat_true['redshift'], bins = bins, linewidth = 4, label = r'$z_{\\rm cosmoDC2}  > z_{\\rm cl} + 0.1$', density = True, color = 'orange')\n",
    "plt.hist(cat_photoz['redshift'], bins = bins, histtype = 'step', linewidth = 4, label = r'$\\langle z \\rangle_{\\rm photoz} > z_{\\rm cl} + 0.1$', density = True)\n",
    "plt.legend(frameon = False, fontsize = 20)\n",
    "plt.xlabel(r'$z_{\\rm cosmoDC2}$', fontsize = 30)\n",
    "plt.ylabel(r'density', fontsize = 30)\n",
    "plt.show()"
   ]
  },
  {
   "cell_type": "code",
   "execution_count": null,
   "id": "c7e6ac0b",
   "metadata": {},
   "outputs": [],
   "source": [
    "per_cent = abs(100*(len(cat_photoz[cat_photoz['redshift'] < z_min]))/len(cat_photoz))"
   ]
  },
  {
   "cell_type": "code",
   "execution_count": null,
   "id": "e0f9c81f",
   "metadata": {},
   "outputs": [],
   "source": [
    "print(F'The percentage of galaxies with true redshift below the threeshold is {per_cent:.2f} %')"
   ]
  },
  {
   "cell_type": "markdown",
   "id": "304274b0",
   "metadata": {},
   "source": [
    "This selection effect has to be taken in account in the omputation of the excess surface density. Here we consider an ideal case where the background galaxy catalog have true and mean photometric redshift above the threeshold. "
   ]
  },
  {
   "cell_type": "code",
   "execution_count": null,
   "id": "96f42785",
   "metadata": {},
   "outputs": [],
   "source": [
    "cat_complete = cat_photoz[cat_photoz['redshift'] > z_min]"
   ]
  },
  {
   "cell_type": "markdown",
   "id": "573872ed",
   "metadata": {},
   "source": [
    "# 4. Compute the excess surface density"
   ]
  },
  {
   "cell_type": "markdown",
   "id": "57dd37d8",
   "metadata": {},
   "source": [
    "### Estimator of the excess surface density\n",
    "\n",
    "- The maximum likelihood estimator of the excess surface density in the radial bin $[R, R + \\Delta R[$ is defined by $$\\widehat{\\Delta\\Sigma}_+(R) = \\frac{1}{\\sum\\limits_{s = 1} w_{s}}\n",
    "     \\sum\\limits_{s= 1}w_{s}\\langle\\Sigma_{{\\rm crit}}(z_s, z_l)^{-1}\\rangle^{-1}\\epsilon_+^{s}$$ where $\\epsilon_+^{s}$ is the tangential ellipticity of the background galaxy with index $s$ (source) relative to the dark matter halo position (lens).\n",
    "     \n",
    "- The critical surface mass density expresses as $\\Sigma_{{\\rm crit}}(z_s, z_l) = \\frac{c^2}{4 \\pi G} \\frac{D_A(z_s)}{D_A(z_l) D_A(z_s, z_l)}$, where $D_A(z_l), D_A(z_s)$ are respectively the angular diameter distance to the lens and to the source in physical units, and $D_A(z_s, z_l)$ is the angular diameter distance between the lens and the source.\n",
    "\n",
    "\n",
    "- and the average $\\langle\\Sigma_{\\rm crit}(z_s,z_l)^{-1}\\rangle$ is defined as $\\langle\\Sigma_{\\rm crit}(z_s,z_l)^{-1}\\rangle = \\int_{z_l + 0.1}^{+\\infty} d z_s\\ p_{\\rm photoz}(z_s)\\Sigma_{\\rm crit}(z_s,z_l)^{-1}$, where $p_{\\rm photoz}$ is the photometric probability density function for the background galaxy with index $s$.\n",
    "\n",
    "### Weights $w_s$\n",
    "\n",
    "The quantities $w_{s}$ are the weights that maximise the sigmnal-to-noise ratio of the excess surface density estimator. They downweight the galaxies that are close in redshift to the cluster (where the shape distorsion is small). It also indicates the lack of informations on both redshift and shape reconstruction for each background galaxies. \n",
    "\n",
    "- In the case where there is no error on the shape measurement (in the case of cosmoDC2), the weight $w_{s}$ writes $w_{s} = \\langle\\Sigma_{\\rm crit}(z_s,z_l)^{-1}\\rangle^{2}$,\n",
    "\n",
    "- In the case of true redshift $z_s$, the PDF reduces to a Dirac function centered at $z_s$, giving the average $\\langle\\Sigma_{\\rm crit}(z_l,z_s)^{-1}\\rangle = \\Sigma_{\\rm crit}(z_l,z_s)^{-1} $ and the weight $w_{s} = \\Sigma_{\\rm crit}(z_s,z_l)^{-2}$,\n"
   ]
  },
  {
   "cell_type": "markdown",
   "id": "d2b9e5f3",
   "metadata": {},
   "source": [
    "In this notebook, we compute the excess surface density in 3 different cases, using different redshift informations:\n",
    "\n",
    "- true backgroud galaxy redshift (computation of $w_{ls}^{\\rm true}$)\n",
    "- photometrical probability density function ($w_{ls}^{\\rm pdf}$)\n",
    "- mean photometric redshift ($w_{ls}^{\\rm mean}$)\n",
    "\n",
    "We will refer to the probability $p_{s} = \\frac{w_{s}}{\\sum_{s'} w_{s'}}$ in each case"
   ]
  },
  {
   "cell_type": "code",
   "execution_count": null,
   "id": "617929d8",
   "metadata": {},
   "outputs": [],
   "source": [
    "z_bins = cat.photoz_pdf_bin_centers"
   ]
  },
  {
   "cell_type": "code",
   "execution_count": null,
   "id": "941ac9ae",
   "metadata": {},
   "outputs": [],
   "source": [
    "cosmo = clmm.Cosmology(H0 = 71.0, Omega_dm0 = 0.265 - 0.0448, Omega_b0 = 0.0448, Omega_k0 = 0.0)"
   ]
  },
  {
   "cell_type": "code",
   "execution_count": null,
   "id": "01a3880f",
   "metadata": {},
   "outputs": [],
   "source": [
    "sigma_crit_1 = 1/cosmo.eval_sigma_crit(z_min, z_bins)"
   ]
  },
  {
   "cell_type": "code",
   "execution_count": null,
   "id": "a11b4a8e",
   "metadata": {},
   "outputs": [],
   "source": [
    "unormed_integral = scipy.integrate.simps(cat_complete['photoz_pdf'] * sigma_crit_1, x = z_bins, axis = 1)\n",
    "norm = scipy.integrate.simps(cat_complete['photoz_pdf'], x = z_bins, axis = 1)"
   ]
  },
  {
   "cell_type": "code",
   "execution_count": null,
   "id": "99be2d66",
   "metadata": {},
   "outputs": [],
   "source": [
    "ws_pdf = (unormed_integral/norm)**2\n",
    "ws_true = (1./cosmo.eval_sigma_crit(z_min, cat_complete['redshift']))**2\n",
    "ws_mean = (1./cosmo.eval_sigma_crit(z_min, cat_complete['photoz_mean']))**2"
   ]
  },
  {
   "cell_type": "code",
   "execution_count": null,
   "id": "508222b6",
   "metadata": {},
   "outputs": [],
   "source": [
    "ws_random = []\n",
    "for pdf in cat_complete['photoz_pdf']:\n",
    "    ws_random.append(np.random.choice(1./cosmo.eval_sigma_crit(z_min, z_bins), p = pdf/np.sum(pdf))**2)\n",
    "ws_random = np.array(ws_random)"
   ]
  },
  {
   "cell_type": "code",
   "execution_count": null,
   "id": "f06b1b76",
   "metadata": {},
   "outputs": [],
   "source": [
    "ws_with_photozs = [ws_pdf, ws_mean, ws_random]\n",
    "label = [r'$p_{s}^{\\rm pdf}$', \n",
    "         r'$p_{s}^{\\rm mean}$', \n",
    "         r'$p_{s}^{\\rm random}$']\n",
    "\n",
    "x = np.linspace(0, 7, 100)\n",
    "fig, axs = plt.subplots(1, 3, figsize = (25,7))\n",
    "for i in range(3):\n",
    "    \n",
    "    axs[i].scatter(cat_complete['redshift'], 1e5*ws_with_photozs[i]/np.sum(ws_with_photozs[i]), s = 1, c = 'r', label = label[i])\n",
    "    axs[i].scatter(cat_complete['redshift'], 1e5*ws_true/np.sum(ws_true), s = 1, c = 'k', label = r'$p_{s}^{\\rm true}$')\n",
    "    axs[i].set_ylabel(r'$p_{s}\\ (\\times 10^{-5})$', fontsize = 20)\n",
    "    axs[i].set_xlabel(r'$z_{\\rm cosmoDC2}$', fontsize = 20)\n",
    "    axs[i].tick_params(axis='both', which = 'major', labelsize= 15, zorder = 0)\n",
    "    axs[i].legend(fontsize = 20, loc = 'lower right', frameon = True, framealpha = 1)\n",
    "    axs[i].set_ylim(0,7)"
   ]
  },
  {
   "cell_type": "code",
   "execution_count": null,
   "id": "68f9935c",
   "metadata": {},
   "outputs": [],
   "source": [
    "data = clmm.GCData(cat_complete)\n",
    "cl = clmm.GalaxyCluster('DM_halo', ra_cl, dec_cl, z_cl, data)\n",
    "cl.galcat['ws_true'] = np.array(ws_true)\n",
    "cl.galcat['ws_pdf'] = np.array(ws_pdf)\n",
    "cl.galcat['ws_mean'] = np.array(ws_mean)\n",
    "cl.galcat['ws_random'] = np.array(ws_random)"
   ]
  },
  {
   "cell_type": "markdown",
   "id": "1fc286de",
   "metadata": {},
   "source": [
    "We compute the tangential ellipticity for each background galaxy relative to the dark matter halo center"
   ]
  },
  {
   "cell_type": "code",
   "execution_count": null,
   "id": "7f9639b4",
   "metadata": {},
   "outputs": [],
   "source": [
    "cl.compute_tangential_and_cross_components(\n",
    "                                    shape_component1='e1', shape_component2='e2', \n",
    "                                    tan_component='shear_t', cross_component='shear_x',\n",
    "                                    geometry=\"flat\")\n",
    "cl.galcat['r'] = cosmo.eval_da(cl.z)*cl.galcat['theta']"
   ]
  },
  {
   "cell_type": "markdown",
   "id": "f49b470a",
   "metadata": {},
   "source": [
    "We now compute the excess surface density profile by binning the backgroud galaxy catalog in radial bins and computing the mean excess surface density in each bins using the above equation. \n",
    "- We define a set of bin edges \n",
    "- We compute the average excess surface density in each bins as described above for the 4 cases. \n",
    "- We compute the errorbars as the standard deviation in each bin"
   ]
  },
  {
   "cell_type": "code",
   "execution_count": null,
   "id": "73c4d46b",
   "metadata": {},
   "outputs": [],
   "source": [
    "bin_edges = clmm.make_bins(0.1,  6, nbins=10, method='evenlog10width')\n",
    "radial_bin = [[bin_edges[i], bin_edges[i + 1]] for i in range(len(bin_edges)-1)]"
   ]
  },
  {
   "cell_type": "code",
   "execution_count": null,
   "id": "12d273d7",
   "metadata": {},
   "outputs": [],
   "source": [
    "def make_radial_profile(catalog = 1, radius = '', tangential_ellipticity = '', weight = '', radial_bin = 1):\n",
    "\n",
    "    profile = Table(names=['r', 'DS', 'DS_err'])\n",
    "    \n",
    "    for i, r_bin in enumerate(radial_bin):\n",
    "        \n",
    "        mask = (catalog.galcat[radius] > r_bin[0])*(catalog.galcat[radius] <= r_bin[1])*(catalog.galcat[weight] != 0)\n",
    "\n",
    "        data_cut = cl.galcat[mask]\n",
    "        \n",
    "        r_mean = np.mean(data_cut['r'])\n",
    "\n",
    "        ds = np.average(data_cut[tangential_ellipticity]*data_cut[weight]**(-0.5), \n",
    "                             weights = data_cut[weight])\n",
    "        \n",
    "        ds_rms = np.sqrt(np.average((data_cut['shear_t']*data_cut[weight]**(-0.5) - ds)**2, \n",
    "                                         weights = data_cut[weight]))/np.sqrt(len(data_cut))\n",
    "\n",
    "        profile.add_row([r_mean, ds, ds_rms])\n",
    "        \n",
    "    return profile"
   ]
  },
  {
   "cell_type": "code",
   "execution_count": null,
   "id": "3b059968",
   "metadata": {},
   "outputs": [],
   "source": [
    "#true redhift\n",
    "profile_true = make_radial_profile(catalog = cl, radius = 'r', \n",
    "                                   tangential_ellipticity = 'shear_t', \n",
    "                                   weight = 'ws_true', \n",
    "                                   radial_bin = radial_bin)\n",
    "\n",
    "# using full photometric PDF\n",
    "profile_pdf = make_radial_profile(catalog = cl, radius = 'r', \n",
    "                                  tangential_ellipticity = 'shear_t', \n",
    "                                  weight = 'ws_pdf', \n",
    "                                  radial_bin = radial_bin)\n",
    "\n",
    "# using mean photometric redshift\n",
    "profile_mean = make_radial_profile(catalog = cl, radius = 'r', \n",
    "                                   tangential_ellipticity = 'shear_t', \n",
    "                                   weight = 'ws_mean', \n",
    "                                   radial_bin = radial_bin)\n",
    "\n",
    "# using random sample of the photometric PDF\n",
    "profile_random = make_radial_profile(catalog = cl, radius = 'r', \n",
    "                                     tangential_ellipticity = 'shear_t', \n",
    "                                     weight = 'ws_random', \n",
    "                                     radial_bin = radial_bin)"
   ]
  },
  {
   "cell_type": "code",
   "execution_count": null,
   "id": "658a7a95",
   "metadata": {},
   "outputs": [],
   "source": [
    "ylabel = r'$\\hat{\\Delta\\Sigma}_+$ ' +'$[$' + r'${\\rm M}$' + r'$_\\odot\\;$'+ r'${\\rm Mpc}$'+r'$^{-2}$'r'$]$'\n",
    "xlabel = r'$R\\ [$' + r'${\\rm Mpc}$' + r'$]$'\n",
    "plt.figure(figsize = (10,7))\n",
    "plt.grid(True, which=\"both\", ls=\"-\")\n",
    "plt.rcParams['axes.linewidth'] = 2\n",
    "plt.tick_params(axis='both', which = 'both', labelsize= 15)\n",
    "deltalogr = 0.03\n",
    "dr = deltalogr*profile_true['r']\n",
    "plt.errorbar(profile_true['r']  - 1*dr, profile_true['DS']  , profile_true['DS_err']  , fmt = ' ', marker = 'o', label = r'with $w_{ls}^{\\rm true}$')\n",
    "plt.errorbar(profile_pdf['r']   + 0*dr, profile_pdf['DS']   , profile_pdf['DS_err']   , fmt = ' ', marker = 'o', label = r'with $w_{ls}^{\\rm pdf}$')\n",
    "plt.errorbar(profile_mean['r']  + 1*dr, profile_mean['DS']  , profile_mean['DS_err']  , fmt = ' ', marker = 'o', label = r'with $w_{ls}^{\\rm mean}$')\n",
    "plt.errorbar(profile_random['r']+ 2*dr, profile_random['DS'], profile_random['DS_err'], fmt = ' ', marker = 'o', label = r'with $w_{ls}^{\\rm random}$')\n",
    "plt.loglog()\n",
    "plt.xlabel(xlabel, fontsize = 20)\n",
    "plt.ylabel(ylabel, fontsize = 20)\n",
    "plt.legend(frameon = False, fontsize = 20, loc = 'lower center')\n",
    "plt.title('Excess surface density', fontsize = 20)\n",
    "plt.show()"
   ]
  },
  {
   "cell_type": "code",
   "execution_count": null,
   "id": "4abc9b80",
   "metadata": {},
   "outputs": [],
   "source": []
  },
  {
   "cell_type": "code",
   "execution_count": null,
   "id": "74376dfc",
   "metadata": {},
   "outputs": [],
   "source": []
  }
 ],
 "metadata": {
  "kernelspec": {
   "display_name": "mydesc",
   "language": "python",
   "name": "mydesc"
  },
  "language_info": {
   "codemirror_mode": {
    "name": "ipython",
    "version": 3
   },
   "file_extension": ".py",
   "mimetype": "text/x-python",
   "name": "python",
   "nbconvert_exporter": "python",
   "pygments_lexer": "ipython3",
   "version": "3.7.6"
  }
 },
 "nbformat": 4,
 "nbformat_minor": 5
}
